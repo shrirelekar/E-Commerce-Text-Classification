{
 "cells": [
  {
   "cell_type": "markdown",
   "id": "8aaa7a0b",
   "metadata": {},
   "source": [
    "# E-Commerce Text Classification"
   ]
  },
  {
   "cell_type": "markdown",
   "id": "cc2a129e",
   "metadata": {},
   "source": [
    "Project Description: E-commerce Text Classification\n",
    "\n",
    "Data Description:\n",
    "\n",
    "- This is the classification based E-commerce text dataset for 4 categories - \"Electronics\", \"Household\", \"Books\" and \"Clothing & Accessories\", which almost cover 80% of any E-commerce website.\n",
    "\n",
    "- The dataset is in \".csv\" format with two columns - the first column is the class name and the second one is the data point of that class. The data point is the product and description from the e-commerce website.\n",
    "\n",
    "Dataset:\n",
    "\n",
    "The dataset has the following features:\n",
    "\n",
    "- Data Set Characteristics: Multivariate\n",
    "- Number of Instances: 50424\n",
    "- Number of classes: 4"
   ]
  },
  {
   "cell_type": "code",
   "execution_count": 2,
   "id": "bc2dbbc5",
   "metadata": {},
   "outputs": [
    {
     "name": "stderr",
     "output_type": "stream",
     "text": [
      "[nltk_data] Downloading package stopwords to\n",
      "[nltk_data]     C:\\Users\\shril\\AppData\\Roaming\\nltk_data...\n",
      "[nltk_data]   Package stopwords is already up-to-date!\n",
      "[nltk_data] Downloading package punkt to\n",
      "[nltk_data]     C:\\Users\\shril\\AppData\\Roaming\\nltk_data...\n",
      "[nltk_data]   Package punkt is already up-to-date!\n",
      "[nltk_data] Downloading package wordnet to\n",
      "[nltk_data]     C:\\Users\\shril\\AppData\\Roaming\\nltk_data...\n",
      "[nltk_data]   Package wordnet is already up-to-date!\n"
     ]
    },
    {
     "name": "stdout",
     "output_type": "stream",
     "text": [
      "Requirement already satisfied: contractions in c:\\users\\shril\\anaconda3\\lib\\site-packages (0.1.73)\n",
      "Requirement already satisfied: textsearch>=0.0.21 in c:\\users\\shril\\anaconda3\\lib\\site-packages (from contractions) (0.0.24)\n",
      "Requirement already satisfied: pyahocorasick in c:\\users\\shril\\anaconda3\\lib\\site-packages (from textsearch>=0.0.21->contractions) (2.1.0)\n",
      "Requirement already satisfied: anyascii in c:\\users\\shril\\anaconda3\\lib\\site-packages (from textsearch>=0.0.21->contractions) (0.3.2)\n"
     ]
    }
   ],
   "source": [
    "# Import the libraries, load dataset\n",
    "import numpy as np #Import numpy.\n",
    "import pandas as pd #Import pandas.\n",
    "import nltk #Import Natural Language Tool-Kit.\n",
    "\n",
    "nltk.download('stopwords') #Download Stopwords.\n",
    "nltk.download('punkt')\n",
    "nltk.download('wordnet')\n",
    "\n",
    "!pip install contractions\n",
    "\n",
    "import re, string, unicodedata  #Import Regex, string and unicodedata.\n",
    "import contractions  #Import contractions library.\n",
    "from bs4 import BeautifulSoup  #Import BeautifulSoup.\n",
    "\n",
    "from nltk.corpus import stopwords #Import stopwords.\n",
    "from nltk.tokenize import word_tokenize, sent_tokenize  #Import Tokenizer.\n",
    "from nltk.stem.wordnet import WordNetLemmatizer  \n",
    "import warnings\n",
    "warnings.filterwarnings(\"ignore\")"
   ]
  },
  {
   "cell_type": "code",
   "execution_count": 3,
   "id": "b53ce775",
   "metadata": {},
   "outputs": [],
   "source": [
    "# Loading data into pandas dataframe\n",
    "data=pd.read_csv(\"ecommerce.csv\")"
   ]
  },
  {
   "cell_type": "code",
   "execution_count": 4,
   "id": "d51320d6",
   "metadata": {},
   "outputs": [
    {
     "name": "stdout",
     "output_type": "stream",
     "text": [
      "Shape of data\n"
     ]
    },
    {
     "data": {
      "text/plain": [
       "(50424, 2)"
      ]
     },
     "execution_count": 4,
     "metadata": {},
     "output_type": "execute_result"
    }
   ],
   "source": [
    "print('Shape of data')\n",
    "data.shape"
   ]
  },
  {
   "cell_type": "code",
   "execution_count": 5,
   "id": "13cb854f",
   "metadata": {},
   "outputs": [
    {
     "data": {
      "text/html": [
       "<div>\n",
       "<style scoped>\n",
       "    .dataframe tbody tr th:only-of-type {\n",
       "        vertical-align: middle;\n",
       "    }\n",
       "\n",
       "    .dataframe tbody tr th {\n",
       "        vertical-align: top;\n",
       "    }\n",
       "\n",
       "    .dataframe thead th {\n",
       "        text-align: right;\n",
       "    }\n",
       "</style>\n",
       "<table border=\"1\" class=\"dataframe\">\n",
       "  <thead>\n",
       "    <tr style=\"text-align: right;\">\n",
       "      <th></th>\n",
       "      <th>Label</th>\n",
       "      <th>Text</th>\n",
       "    </tr>\n",
       "  </thead>\n",
       "  <tbody>\n",
       "    <tr>\n",
       "      <th>0</th>\n",
       "      <td>Household</td>\n",
       "      <td>Styleys Wrought Iron Coat Rack Hanger Creative...</td>\n",
       "    </tr>\n",
       "    <tr>\n",
       "      <th>1</th>\n",
       "      <td>Household</td>\n",
       "      <td>Cuisinart CCO-50BKN Deluxe Electric Can Opener...</td>\n",
       "    </tr>\n",
       "    <tr>\n",
       "      <th>2</th>\n",
       "      <td>Household</td>\n",
       "      <td>Anchor Penta 6 Amp 1 -Way Switch (White) - Pac...</td>\n",
       "    </tr>\n",
       "    <tr>\n",
       "      <th>3</th>\n",
       "      <td>Clothing &amp; Accessories</td>\n",
       "      <td>Proline Men's Track Jacket Proline Woven, 100%...</td>\n",
       "    </tr>\n",
       "    <tr>\n",
       "      <th>4</th>\n",
       "      <td>Household</td>\n",
       "      <td>Chef's Garage 2 Slot Edge Grip Kitchen Knife S...</td>\n",
       "    </tr>\n",
       "  </tbody>\n",
       "</table>\n",
       "</div>"
      ],
      "text/plain": [
       "                    Label                                               Text\n",
       "0               Household  Styleys Wrought Iron Coat Rack Hanger Creative...\n",
       "1               Household  Cuisinart CCO-50BKN Deluxe Electric Can Opener...\n",
       "2               Household  Anchor Penta 6 Amp 1 -Way Switch (White) - Pac...\n",
       "3  Clothing & Accessories  Proline Men's Track Jacket Proline Woven, 100%...\n",
       "4               Household  Chef's Garage 2 Slot Edge Grip Kitchen Knife S..."
      ]
     },
     "execution_count": 5,
     "metadata": {},
     "output_type": "execute_result"
    }
   ],
   "source": [
    "data.head()"
   ]
  },
  {
   "cell_type": "code",
   "execution_count": 6,
   "id": "b9e8099b",
   "metadata": {},
   "outputs": [
    {
     "name": "stdout",
     "output_type": "stream",
     "text": [
      "<class 'pandas.core.frame.DataFrame'>\n",
      "RangeIndex: 50424 entries, 0 to 50423\n",
      "Data columns (total 2 columns):\n",
      " #   Column  Non-Null Count  Dtype \n",
      "---  ------  --------------  ----- \n",
      " 0   Label   50424 non-null  object\n",
      " 1   Text    50423 non-null  object\n",
      "dtypes: object(2)\n",
      "memory usage: 788.0+ KB\n"
     ]
    }
   ],
   "source": [
    "data.info()"
   ]
  },
  {
   "cell_type": "markdown",
   "id": "5c892980",
   "metadata": {},
   "source": [
    "Text column has got object data type."
   ]
  },
  {
   "cell_type": "code",
   "execution_count": 7,
   "id": "82014bcc",
   "metadata": {},
   "outputs": [
    {
     "data": {
      "text/plain": [
       "dtype('O')"
      ]
     },
     "execution_count": 7,
     "metadata": {},
     "output_type": "execute_result"
    }
   ],
   "source": [
    "data['Text'].dtypes"
   ]
  },
  {
   "cell_type": "code",
   "execution_count": 8,
   "id": "4e33a2da",
   "metadata": {},
   "outputs": [
    {
     "data": {
      "text/plain": [
       "Label    0\n",
       "Text     1\n",
       "dtype: int64"
      ]
     },
     "execution_count": 8,
     "metadata": {},
     "output_type": "execute_result"
    }
   ],
   "source": [
    "#Count of missing value across each column\n",
    "data.isnull().sum()"
   ]
  },
  {
   "cell_type": "code",
   "execution_count": 9,
   "id": "0cbfc1f6",
   "metadata": {},
   "outputs": [],
   "source": [
    "#Removal of missing value from the data\n",
    "data = data.dropna() "
   ]
  },
  {
   "cell_type": "code",
   "execution_count": 10,
   "id": "9ed51c0a",
   "metadata": {},
   "outputs": [
    {
     "data": {
      "text/plain": [
       "Label    0\n",
       "Text     0\n",
       "dtype: int64"
      ]
     },
     "execution_count": 10,
     "metadata": {},
     "output_type": "execute_result"
    }
   ],
   "source": [
    "#Checking the missing value in each column\n",
    "data.isnull().sum()"
   ]
  },
  {
   "cell_type": "code",
   "execution_count": 11,
   "id": "3c719136",
   "metadata": {},
   "outputs": [
    {
     "data": {
      "text/plain": [
       "array(['Household', 'Clothing & Accessories', 'Electronics', 'Books'],\n",
       "      dtype=object)"
      ]
     },
     "execution_count": 11,
     "metadata": {},
     "output_type": "execute_result"
    }
   ],
   "source": [
    "# Unique product name in \"Label\" column.\n",
    "data['Label'].unique()"
   ]
  },
  {
   "cell_type": "code",
   "execution_count": 12,
   "id": "7f5f2c30",
   "metadata": {},
   "outputs": [
    {
     "data": {
      "text/plain": [
       "['Household', 'Clothing & Accessories', 'Electronics', 'Books']"
      ]
     },
     "execution_count": 12,
     "metadata": {},
     "output_type": "execute_result"
    }
   ],
   "source": [
    "#Saving Unique product name in \"Label\" column into a list.\n",
    "labels = data['Label'].unique().tolist()\n",
    "labels"
   ]
  },
  {
   "cell_type": "code",
   "execution_count": 13,
   "id": "1a28fdf6",
   "metadata": {},
   "outputs": [
    {
     "data": {
      "text/html": [
       "<div>\n",
       "<style scoped>\n",
       "    .dataframe tbody tr th:only-of-type {\n",
       "        vertical-align: middle;\n",
       "    }\n",
       "\n",
       "    .dataframe tbody tr th {\n",
       "        vertical-align: top;\n",
       "    }\n",
       "\n",
       "    .dataframe thead th {\n",
       "        text-align: right;\n",
       "    }\n",
       "</style>\n",
       "<table border=\"1\" class=\"dataframe\">\n",
       "  <thead>\n",
       "    <tr style=\"text-align: right;\">\n",
       "      <th></th>\n",
       "      <th>Label</th>\n",
       "      <th>Text</th>\n",
       "    </tr>\n",
       "  </thead>\n",
       "  <tbody>\n",
       "    <tr>\n",
       "      <th>0</th>\n",
       "      <td>Household</td>\n",
       "      <td>Styleys Wrought Iron Coat Rack Hanger Creative Fashion Bedroom for Hanging Clothes Shelves, Wrought Iron Racks Standing Coat Rack (Black) Color Name:Black   Styleys Coat Stand is great for homes and rooms with limited space, as having one standing rack takes up less space compared to drawers and cupboards. Easy for guests to keep their items, especially bags and scarves, when visiting, as they can always keep an eye on it and easily grab it when they're leaving. Makes a smart décor piece for your home or room as occupied stands can show off your stylish handbags, accessories, and hangman achievement medals. Dimensions: 45cm x 31cm x 175cm Weight: 2.4kg Material: steel Colour: white, black, or pink No. of hook: 7 + 3 (straight pegs) Suitable to hang coats, clothes, scarves, handbags, hats, and accessories</td>\n",
       "    </tr>\n",
       "    <tr>\n",
       "      <th>1</th>\n",
       "      <td>Household</td>\n",
       "      <td>Cuisinart CCO-50BKN Deluxe Electric Can Opener, Black Size:None                                                                                 |                            Color Name:Black   Style, convenience, and power come together in the Cuisinart electric can open. With chrome accents and elegant contours, it fits nicely with other modern countertop appliances. The easy single-touc</td>\n",
       "    </tr>\n",
       "    <tr>\n",
       "      <th>2</th>\n",
       "      <td>Household</td>\n",
       "      <td>Anchor Penta 6 Amp 1 -Way Switch (White) - Pack of 20 Anchor Penta 6 Amp 1 -Way Switch (White)- Pack of 20 comes with Spark Shield - Concealed Terminals - Silver Cadmium Contacts - IP 20 Protection - Captive Screw.</td>\n",
       "    </tr>\n",
       "    <tr>\n",
       "      <th>3</th>\n",
       "      <td>Clothing &amp; Accessories</td>\n",
       "      <td>Proline Men's Track Jacket Proline Woven, 100% Polyester High neck Wind Cheater with colour Blocked Detail</td>\n",
       "    </tr>\n",
       "    <tr>\n",
       "      <th>4</th>\n",
       "      <td>Household</td>\n",
       "      <td>Chef's Garage 2 Slot Edge Grip Kitchen Knife Sharpener, Helps to Sharpen The Dull Knives (Black) Chef's Garage Mini Knife sharpener helps to sharpen your dull knives. This tiny knife sharpener has 2 stage sharpening system. First stage is for damaged and dull knives, it will sharpen the knife on the coarse slot. The coarse slot is made of carbide. Second stage is fine slot, once you have honed the knife on coarse slot it will helps to give the finishing touch. The fine slot is made of ceramic for fine sharpening. It’s give a quick touch up on already sharper knives or for finishing off knives that have already passed through the coarse slot.Also it comes with one of the unique edge grip feature to sharpen on the edge of the table or counter top. Key Features: Very easy to use. Non-slip base for added stability and control Carbide and ceramic blades on these sharpening slots are long lasting. Strong and hard with flexibility of an edge grip feature for bigger knives Small in size 9.50 x 5.0 x 4.50 cms. Weights less - 70 grams Instructions:1.      Insert the blade into the slot at a 90-degree angle to the mini sharpener.2.      Place the edge in coarse slot (Black in color)3.      Pull the knife straight back towards you 2 to 3 times while applying a light pressure.4.      Place the blade in fine slot (White in color)5.      Pull the knife straight back towards you 5 to 6 times while applying a heavy pressure.6.      If blade is still dull repeat these steps until blade is sharp.</td>\n",
       "    </tr>\n",
       "  </tbody>\n",
       "</table>\n",
       "</div>"
      ],
      "text/plain": [
       "                    Label  \\\n",
       "0               Household   \n",
       "1               Household   \n",
       "2               Household   \n",
       "3  Clothing & Accessories   \n",
       "4               Household   \n",
       "\n",
       "                                                                                                                                                                                                                                                                                                                                                                                                                                                                                                                                                                                                                                                                                                                                                                                                                                                                                                                                                                                                                                                                                                                                                                                                                                                                                                                                                                                                                                                                                                                                                             Text  \n",
       "0                                                                                                                                                                                                                                                                                                                                                                                                                                                                                                                                                                                                                                                                                                                 Styleys Wrought Iron Coat Rack Hanger Creative Fashion Bedroom for Hanging Clothes Shelves, Wrought Iron Racks Standing Coat Rack (Black) Color Name:Black   Styleys Coat Stand is great for homes and rooms with limited space, as having one standing rack takes up less space compared to drawers and cupboards. Easy for guests to keep their items, especially bags and scarves, when visiting, as they can always keep an eye on it and easily grab it when they're leaving. Makes a smart décor piece for your home or room as occupied stands can show off your stylish handbags, accessories, and hangman achievement medals. Dimensions: 45cm x 31cm x 175cm Weight: 2.4kg Material: steel Colour: white, black, or pink No. of hook: 7 + 3 (straight pegs) Suitable to hang coats, clothes, scarves, handbags, hats, and accessories  \n",
       "1                                                                                                                                                                                                                                                                                                                                                                                                                                                                                                                                                                                                                                                                                                                                                                                                                                                                                                                                                                                                                                                                                                                                                          Cuisinart CCO-50BKN Deluxe Electric Can Opener, Black Size:None                                                                                 |                            Color Name:Black   Style, convenience, and power come together in the Cuisinart electric can open. With chrome accents and elegant contours, it fits nicely with other modern countertop appliances. The easy single-touc  \n",
       "2                                                                                                                                                                                                                                                                                                                                                                                                                                                                                                                                                                                                                                                                                                                                                                                                                                                                                                                                                                                                                                                                                                                                                                                                                                                                                                                                          Anchor Penta 6 Amp 1 -Way Switch (White) - Pack of 20 Anchor Penta 6 Amp 1 -Way Switch (White)- Pack of 20 comes with Spark Shield - Concealed Terminals - Silver Cadmium Contacts - IP 20 Protection - Captive Screw.  \n",
       "3                                                                                                                                                                                                                                                                                                                                                                                                                                                                                                                                                                                                                                                                                                                                                                                                                                                                                                                                                                                                                                                                                                                                                                                                                                                                                                                                                                                                                                                      Proline Men's Track Jacket Proline Woven, 100% Polyester High neck Wind Cheater with colour Blocked Detail  \n",
       "4  Chef's Garage 2 Slot Edge Grip Kitchen Knife Sharpener, Helps to Sharpen The Dull Knives (Black) Chef's Garage Mini Knife sharpener helps to sharpen your dull knives. This tiny knife sharpener has 2 stage sharpening system. First stage is for damaged and dull knives, it will sharpen the knife on the coarse slot. The coarse slot is made of carbide. Second stage is fine slot, once you have honed the knife on coarse slot it will helps to give the finishing touch. The fine slot is made of ceramic for fine sharpening. It’s give a quick touch up on already sharper knives or for finishing off knives that have already passed through the coarse slot.Also it comes with one of the unique edge grip feature to sharpen on the edge of the table or counter top. Key Features: Very easy to use. Non-slip base for added stability and control Carbide and ceramic blades on these sharpening slots are long lasting. Strong and hard with flexibility of an edge grip feature for bigger knives Small in size 9.50 x 5.0 x 4.50 cms. Weights less - 70 grams Instructions:1.      Insert the blade into the slot at a 90-degree angle to the mini sharpener.2.      Place the edge in coarse slot (Black in color)3.      Pull the knife straight back towards you 2 to 3 times while applying a light pressure.4.      Place the blade in fine slot (White in color)5.      Pull the knife straight back towards you 5 to 6 times while applying a heavy pressure.6.      If blade is still dull repeat these steps until blade is sharp.  "
      ]
     },
     "execution_count": 13,
     "metadata": {},
     "output_type": "execute_result"
    }
   ],
   "source": [
    "# Display full dataframe information (Non-turncated Text column.)\n",
    "pd.set_option('display.max_colwidth', None) \n",
    "data.head()             "
   ]
  },
  {
   "cell_type": "markdown",
   "id": "2796fab8",
   "metadata": {},
   "source": [
    "## Text pre-processing: Data preparation.\n",
    "-Html tag removal.<br>\n",
    "-Remove the numbers.<br>\n",
    "-Tokenization.<br>\n",
    "-Removal of Special Characters and Punctuations.<br>\n",
    "-Conversion to lowercase.<br>\n",
    "-Lemmatize or stemming.<br>\n",
    "-Join the words in the list to convert back to text string in the dataframe. (So that each row contains the data in text format.)<br>"
   ]
  },
  {
   "cell_type": "code",
   "execution_count": 14,
   "id": "aad3a934",
   "metadata": {},
   "outputs": [
    {
     "data": {
      "text/html": [
       "<div>\n",
       "<style scoped>\n",
       "    .dataframe tbody tr th:only-of-type {\n",
       "        vertical-align: middle;\n",
       "    }\n",
       "\n",
       "    .dataframe tbody tr th {\n",
       "        vertical-align: top;\n",
       "    }\n",
       "\n",
       "    .dataframe thead th {\n",
       "        text-align: right;\n",
       "    }\n",
       "</style>\n",
       "<table border=\"1\" class=\"dataframe\">\n",
       "  <thead>\n",
       "    <tr style=\"text-align: right;\">\n",
       "      <th></th>\n",
       "      <th>Label</th>\n",
       "      <th>Text</th>\n",
       "    </tr>\n",
       "  </thead>\n",
       "  <tbody>\n",
       "    <tr>\n",
       "      <th>0</th>\n",
       "      <td>Household</td>\n",
       "      <td>Styleys Wrought Iron Coat Rack Hanger Creative Fashion Bedroom for Hanging Clothes Shelves, Wrought Iron Racks Standing Coat Rack (Black) Color Name:Black   Styleys Coat Stand is great for homes and rooms with limited space, as having one standing rack takes up less space compared to drawers and cupboards. Easy for guests to keep their items, especially bags and scarves, when visiting, as they can always keep an eye on it and easily grab it when they're leaving. Makes a smart décor piece for your home or room as occupied stands can show off your stylish handbags, accessories, and hangman achievement medals. Dimensions: 45cm x 31cm x 175cm Weight: 2.4kg Material: steel Colour: white, black, or pink No. of hook: 7 + 3 (straight pegs) Suitable to hang coats, clothes, scarves, handbags, hats, and accessories</td>\n",
       "    </tr>\n",
       "    <tr>\n",
       "      <th>1</th>\n",
       "      <td>Household</td>\n",
       "      <td>Cuisinart CCO-50BKN Deluxe Electric Can Opener, Black Size:None                                                                                 |                            Color Name:Black   Style, convenience, and power come together in the Cuisinart electric can open. With chrome accents and elegant contours, it fits nicely with other modern countertop appliances. The easy single-touc</td>\n",
       "    </tr>\n",
       "    <tr>\n",
       "      <th>2</th>\n",
       "      <td>Household</td>\n",
       "      <td>Anchor Penta 6 Amp 1 -Way Switch (White) - Pack of 20 Anchor Penta 6 Amp 1 -Way Switch (White)- Pack of 20 comes with Spark Shield - Concealed Terminals - Silver Cadmium Contacts - IP 20 Protection - Captive Screw.</td>\n",
       "    </tr>\n",
       "    <tr>\n",
       "      <th>3</th>\n",
       "      <td>Clothing &amp; Accessories</td>\n",
       "      <td>Proline Men's Track Jacket Proline Woven, 100% Polyester High neck Wind Cheater with colour Blocked Detail</td>\n",
       "    </tr>\n",
       "    <tr>\n",
       "      <th>4</th>\n",
       "      <td>Household</td>\n",
       "      <td>Chef's Garage 2 Slot Edge Grip Kitchen Knife Sharpener, Helps to Sharpen The Dull Knives (Black) Chef's Garage Mini Knife sharpener helps to sharpen your dull knives. This tiny knife sharpener has 2 stage sharpening system. First stage is for damaged and dull knives, it will sharpen the knife on the coarse slot. The coarse slot is made of carbide. Second stage is fine slot, once you have honed the knife on coarse slot it will helps to give the finishing touch. The fine slot is made of ceramic for fine sharpening. It’s give a quick touch up on already sharper knives or for finishing off knives that have already passed through the coarse slot.Also it comes with one of the unique edge grip feature to sharpen on the edge of the table or counter top. Key Features: Very easy to use. Non-slip base for added stability and control Carbide and ceramic blades on these sharpening slots are long lasting. Strong and hard with flexibility of an edge grip feature for bigger knives Small in size 9.50 x 5.0 x 4.50 cms. Weights less - 70 grams Instructions:1.      Insert the blade into the slot at a 90-degree angle to the mini sharpener.2.      Place the edge in coarse slot (Black in color)3.      Pull the knife straight back towards you 2 to 3 times while applying a light pressure.4.      Place the blade in fine slot (White in color)5.      Pull the knife straight back towards you 5 to 6 times while applying a heavy pressure.6.      If blade is still dull repeat these steps until blade is sharp.</td>\n",
       "    </tr>\n",
       "  </tbody>\n",
       "</table>\n",
       "</div>"
      ],
      "text/plain": [
       "                    Label  \\\n",
       "0               Household   \n",
       "1               Household   \n",
       "2               Household   \n",
       "3  Clothing & Accessories   \n",
       "4               Household   \n",
       "\n",
       "                                                                                                                                                                                                                                                                                                                                                                                                                                                                                                                                                                                                                                                                                                                                                                                                                                                                                                                                                                                                                                                                                                                                                                                                                                                                                                                                                                                                                                                                                                                                                             Text  \n",
       "0                                                                                                                                                                                                                                                                                                                                                                                                                                                                                                                                                                                                                                                                                                                 Styleys Wrought Iron Coat Rack Hanger Creative Fashion Bedroom for Hanging Clothes Shelves, Wrought Iron Racks Standing Coat Rack (Black) Color Name:Black   Styleys Coat Stand is great for homes and rooms with limited space, as having one standing rack takes up less space compared to drawers and cupboards. Easy for guests to keep their items, especially bags and scarves, when visiting, as they can always keep an eye on it and easily grab it when they're leaving. Makes a smart décor piece for your home or room as occupied stands can show off your stylish handbags, accessories, and hangman achievement medals. Dimensions: 45cm x 31cm x 175cm Weight: 2.4kg Material: steel Colour: white, black, or pink No. of hook: 7 + 3 (straight pegs) Suitable to hang coats, clothes, scarves, handbags, hats, and accessories  \n",
       "1                                                                                                                                                                                                                                                                                                                                                                                                                                                                                                                                                                                                                                                                                                                                                                                                                                                                                                                                                                                                                                                                                                                                                          Cuisinart CCO-50BKN Deluxe Electric Can Opener, Black Size:None                                                                                 |                            Color Name:Black   Style, convenience, and power come together in the Cuisinart electric can open. With chrome accents and elegant contours, it fits nicely with other modern countertop appliances. The easy single-touc  \n",
       "2                                                                                                                                                                                                                                                                                                                                                                                                                                                                                                                                                                                                                                                                                                                                                                                                                                                                                                                                                                                                                                                                                                                                                                                                                                                                                                                                          Anchor Penta 6 Amp 1 -Way Switch (White) - Pack of 20 Anchor Penta 6 Amp 1 -Way Switch (White)- Pack of 20 comes with Spark Shield - Concealed Terminals - Silver Cadmium Contacts - IP 20 Protection - Captive Screw.  \n",
       "3                                                                                                                                                                                                                                                                                                                                                                                                                                                                                                                                                                                                                                                                                                                                                                                                                                                                                                                                                                                                                                                                                                                                                                                                                                                                                                                                                                                                                                                      Proline Men's Track Jacket Proline Woven, 100% Polyester High neck Wind Cheater with colour Blocked Detail  \n",
       "4  Chef's Garage 2 Slot Edge Grip Kitchen Knife Sharpener, Helps to Sharpen The Dull Knives (Black) Chef's Garage Mini Knife sharpener helps to sharpen your dull knives. This tiny knife sharpener has 2 stage sharpening system. First stage is for damaged and dull knives, it will sharpen the knife on the coarse slot. The coarse slot is made of carbide. Second stage is fine slot, once you have honed the knife on coarse slot it will helps to give the finishing touch. The fine slot is made of ceramic for fine sharpening. It’s give a quick touch up on already sharper knives or for finishing off knives that have already passed through the coarse slot.Also it comes with one of the unique edge grip feature to sharpen on the edge of the table or counter top. Key Features: Very easy to use. Non-slip base for added stability and control Carbide and ceramic blades on these sharpening slots are long lasting. Strong and hard with flexibility of an edge grip feature for bigger knives Small in size 9.50 x 5.0 x 4.50 cms. Weights less - 70 grams Instructions:1.      Insert the blade into the slot at a 90-degree angle to the mini sharpener.2.      Place the edge in coarse slot (Black in color)3.      Pull the knife straight back towards you 2 to 3 times while applying a light pressure.4.      Place the blade in fine slot (White in color)5.      Pull the knife straight back towards you 5 to 6 times while applying a heavy pressure.6.      If blade is still dull repeat these steps until blade is sharp.  "
      ]
     },
     "execution_count": 14,
     "metadata": {},
     "output_type": "execute_result"
    }
   ],
   "source": [
    "#HTML Tag Removal\n",
    "def strip_html(text):\n",
    "    soup = BeautifulSoup(text, \"html.parser\")\n",
    "    return soup.get_text()\n",
    "\n",
    "data['Text'] = data['Text'].apply(lambda x: strip_html(x))\n",
    "data.head()"
   ]
  },
  {
   "cell_type": "code",
   "execution_count": 15,
   "id": "885a8fc5",
   "metadata": {},
   "outputs": [
    {
     "data": {
      "text/html": [
       "<div>\n",
       "<style scoped>\n",
       "    .dataframe tbody tr th:only-of-type {\n",
       "        vertical-align: middle;\n",
       "    }\n",
       "\n",
       "    .dataframe tbody tr th {\n",
       "        vertical-align: top;\n",
       "    }\n",
       "\n",
       "    .dataframe thead th {\n",
       "        text-align: right;\n",
       "    }\n",
       "</style>\n",
       "<table border=\"1\" class=\"dataframe\">\n",
       "  <thead>\n",
       "    <tr style=\"text-align: right;\">\n",
       "      <th></th>\n",
       "      <th>Label</th>\n",
       "      <th>Text</th>\n",
       "    </tr>\n",
       "  </thead>\n",
       "  <tbody>\n",
       "    <tr>\n",
       "      <th>0</th>\n",
       "      <td>Household</td>\n",
       "      <td>Styleys Wrought Iron Coat Rack Hanger Creative Fashion Bedroom for Hanging Clothes Shelves, Wrought Iron Racks Standing Coat Rack (Black) Color Name:Black   Styleys Coat Stand is great for homes and rooms with limited space, as having one standing rack takes up less space compared to drawers and cupboards. Easy for guests to keep their items, especially bags and scarves, when visiting, as they can always keep an eye on it and easily grab it when they're leaving. Makes a smart décor piece for your home or room as occupied stands can show off your stylish handbags, accessories, and hangman achievement medals. Dimensions: cm x cm x cm Weight: .kg Material: steel Colour: white, black, or pink No. of hook:  +  (straight pegs) Suitable to hang coats, clothes, scarves, handbags, hats, and accessories</td>\n",
       "    </tr>\n",
       "    <tr>\n",
       "      <th>1</th>\n",
       "      <td>Household</td>\n",
       "      <td>Cuisinart CCO-BKN Deluxe Electric Can Opener, Black Size:None                                                                                 |                            Color Name:Black   Style, convenience, and power come together in the Cuisinart electric can open. With chrome accents and elegant contours, it fits nicely with other modern countertop appliances. The easy single-touc</td>\n",
       "    </tr>\n",
       "    <tr>\n",
       "      <th>2</th>\n",
       "      <td>Household</td>\n",
       "      <td>Anchor Penta  Amp  -Way Switch (White) - Pack of  Anchor Penta  Amp  -Way Switch (White)- Pack of  comes with Spark Shield - Concealed Terminals - Silver Cadmium Contacts - IP  Protection - Captive Screw.</td>\n",
       "    </tr>\n",
       "    <tr>\n",
       "      <th>3</th>\n",
       "      <td>Clothing &amp; Accessories</td>\n",
       "      <td>Proline Men's Track Jacket Proline Woven, % Polyester High neck Wind Cheater with colour Blocked Detail</td>\n",
       "    </tr>\n",
       "    <tr>\n",
       "      <th>4</th>\n",
       "      <td>Household</td>\n",
       "      <td>Chef's Garage  Slot Edge Grip Kitchen Knife Sharpener, Helps to Sharpen The Dull Knives (Black) Chef's Garage Mini Knife sharpener helps to sharpen your dull knives. This tiny knife sharpener has  stage sharpening system. First stage is for damaged and dull knives, it will sharpen the knife on the coarse slot. The coarse slot is made of carbide. Second stage is fine slot, once you have honed the knife on coarse slot it will helps to give the finishing touch. The fine slot is made of ceramic for fine sharpening. It’s give a quick touch up on already sharper knives or for finishing off knives that have already passed through the coarse slot.Also it comes with one of the unique edge grip feature to sharpen on the edge of the table or counter top. Key Features: Very easy to use. Non-slip base for added stability and control Carbide and ceramic blades on these sharpening slots are long lasting. Strong and hard with flexibility of an edge grip feature for bigger knives Small in size . x . x . cms. Weights less -  grams Instructions:.      Insert the blade into the slot at a -degree angle to the mini sharpener..      Place the edge in coarse slot (Black in color).      Pull the knife straight back towards you  to  times while applying a light pressure..      Place the blade in fine slot (White in color).      Pull the knife straight back towards you  to  times while applying a heavy pressure..      If blade is still dull repeat these steps until blade is sharp.</td>\n",
       "    </tr>\n",
       "  </tbody>\n",
       "</table>\n",
       "</div>"
      ],
      "text/plain": [
       "                    Label  \\\n",
       "0               Household   \n",
       "1               Household   \n",
       "2               Household   \n",
       "3  Clothing & Accessories   \n",
       "4               Household   \n",
       "\n",
       "                                                                                                                                                                                                                                                                                                                                                                                                                                                                                                                                                                                                                                                                                                                                                                                                                                                                                                                                                                                                                                                                                                                                                                                                                                                                                                                                                                                                                                                                                                                                     Text  \n",
       "0                                                                                                                                                                                                                                                                                                                                                                                                                                                                                                                                                                                                                                                                                                    Styleys Wrought Iron Coat Rack Hanger Creative Fashion Bedroom for Hanging Clothes Shelves, Wrought Iron Racks Standing Coat Rack (Black) Color Name:Black   Styleys Coat Stand is great for homes and rooms with limited space, as having one standing rack takes up less space compared to drawers and cupboards. Easy for guests to keep their items, especially bags and scarves, when visiting, as they can always keep an eye on it and easily grab it when they're leaving. Makes a smart décor piece for your home or room as occupied stands can show off your stylish handbags, accessories, and hangman achievement medals. Dimensions: cm x cm x cm Weight: .kg Material: steel Colour: white, black, or pink No. of hook:  +  (straight pegs) Suitable to hang coats, clothes, scarves, handbags, hats, and accessories  \n",
       "1                                                                                                                                                                                                                                                                                                                                                                                                                                                                                                                                                                                                                                                                                                                                                                                                                                                                                                                                                                                                                                                                                                                                    Cuisinart CCO-BKN Deluxe Electric Can Opener, Black Size:None                                                                                 |                            Color Name:Black   Style, convenience, and power come together in the Cuisinart electric can open. With chrome accents and elegant contours, it fits nicely with other modern countertop appliances. The easy single-touc  \n",
       "2                                                                                                                                                                                                                                                                                                                                                                                                                                                                                                                                                                                                                                                                                                                                                                                                                                                                                                                                                                                                                                                                                                                                                                                                                                                                                                                            Anchor Penta  Amp  -Way Switch (White) - Pack of  Anchor Penta  Amp  -Way Switch (White)- Pack of  comes with Spark Shield - Concealed Terminals - Silver Cadmium Contacts - IP  Protection - Captive Screw.  \n",
       "3                                                                                                                                                                                                                                                                                                                                                                                                                                                                                                                                                                                                                                                                                                                                                                                                                                                                                                                                                                                                                                                                                                                                                                                                                                                                                                                                                                                                                                 Proline Men's Track Jacket Proline Woven, % Polyester High neck Wind Cheater with colour Blocked Detail  \n",
       "4  Chef's Garage  Slot Edge Grip Kitchen Knife Sharpener, Helps to Sharpen The Dull Knives (Black) Chef's Garage Mini Knife sharpener helps to sharpen your dull knives. This tiny knife sharpener has  stage sharpening system. First stage is for damaged and dull knives, it will sharpen the knife on the coarse slot. The coarse slot is made of carbide. Second stage is fine slot, once you have honed the knife on coarse slot it will helps to give the finishing touch. The fine slot is made of ceramic for fine sharpening. It’s give a quick touch up on already sharper knives or for finishing off knives that have already passed through the coarse slot.Also it comes with one of the unique edge grip feature to sharpen on the edge of the table or counter top. Key Features: Very easy to use. Non-slip base for added stability and control Carbide and ceramic blades on these sharpening slots are long lasting. Strong and hard with flexibility of an edge grip feature for bigger knives Small in size . x . x . cms. Weights less -  grams Instructions:.      Insert the blade into the slot at a -degree angle to the mini sharpener..      Place the edge in coarse slot (Black in color).      Pull the knife straight back towards you  to  times while applying a light pressure..      Place the blade in fine slot (White in color).      Pull the knife straight back towards you  to  times while applying a heavy pressure..      If blade is still dull repeat these steps until blade is sharp.  "
      ]
     },
     "execution_count": 15,
     "metadata": {},
     "output_type": "execute_result"
    }
   ],
   "source": [
    "#Remove the numbers\n",
    "data1=data\n",
    "def remove_numbers(text):\n",
    "  text = re.sub(r'\\d+', '', text)\n",
    "  return text\n",
    "\n",
    "data1['Text'] = data1['Text'].apply(lambda x: remove_numbers(x))\n",
    "data1.head()"
   ]
  },
  {
   "cell_type": "code",
   "execution_count": 16,
   "id": "79ded158",
   "metadata": {},
   "outputs": [
    {
     "data": {
      "text/html": [
       "<div>\n",
       "<style scoped>\n",
       "    .dataframe tbody tr th:only-of-type {\n",
       "        vertical-align: middle;\n",
       "    }\n",
       "\n",
       "    .dataframe tbody tr th {\n",
       "        vertical-align: top;\n",
       "    }\n",
       "\n",
       "    .dataframe thead th {\n",
       "        text-align: right;\n",
       "    }\n",
       "</style>\n",
       "<table border=\"1\" class=\"dataframe\">\n",
       "  <thead>\n",
       "    <tr style=\"text-align: right;\">\n",
       "      <th></th>\n",
       "      <th>Label</th>\n",
       "      <th>Text</th>\n",
       "    </tr>\n",
       "  </thead>\n",
       "  <tbody>\n",
       "    <tr>\n",
       "      <th>0</th>\n",
       "      <td>Household</td>\n",
       "      <td>[Styleys, Wrought, Iron, Coat, Rack, Hanger, Creative, Fashion, Bedroom, for, Hanging, Clothes, Shelves, ,, Wrought, Iron, Racks, Standing, Coat, Rack, (, Black, ), Color, Name, :, Black, Styleys, Coat, Stand, is, great, for, homes, and, rooms, with, limited, space, ,, as, having, one, standing, rack, takes, up, less, space, compared, to, drawers, and, cupboards, ., Easy, for, guests, to, keep, their, items, ,, especially, bags, and, scarves, ,, when, visiting, ,, as, they, can, always, keep, an, eye, on, it, and, easily, grab, it, when, they, 're, leaving, ., Makes, a, smart, décor, piece, for, your, home, or, room, as, ...]</td>\n",
       "    </tr>\n",
       "    <tr>\n",
       "      <th>1</th>\n",
       "      <td>Household</td>\n",
       "      <td>[Cuisinart, CCO-BKN, Deluxe, Electric, Can, Opener, ,, Black, Size, :, None, |, Color, Name, :, Black, Style, ,, convenience, ,, and, power, come, together, in, the, Cuisinart, electric, can, open, ., With, chrome, accents, and, elegant, contours, ,, it, fits, nicely, with, other, modern, countertop, appliances, ., The, easy, single-touc]</td>\n",
       "    </tr>\n",
       "    <tr>\n",
       "      <th>2</th>\n",
       "      <td>Household</td>\n",
       "      <td>[Anchor, Penta, Amp, -Way, Switch, (, White, ), -, Pack, of, Anchor, Penta, Amp, -Way, Switch, (, White, ), -, Pack, of, comes, with, Spark, Shield, -, Concealed, Terminals, -, Silver, Cadmium, Contacts, -, IP, Protection, -, Captive, Screw, .]</td>\n",
       "    </tr>\n",
       "    <tr>\n",
       "      <th>3</th>\n",
       "      <td>Clothing &amp; Accessories</td>\n",
       "      <td>[Proline, Men, 's, Track, Jacket, Proline, Woven, ,, %, Polyester, High, neck, Wind, Cheater, with, colour, Blocked, Detail]</td>\n",
       "    </tr>\n",
       "    <tr>\n",
       "      <th>4</th>\n",
       "      <td>Household</td>\n",
       "      <td>[Chef, 's, Garage, Slot, Edge, Grip, Kitchen, Knife, Sharpener, ,, Helps, to, Sharpen, The, Dull, Knives, (, Black, ), Chef, 's, Garage, Mini, Knife, sharpener, helps, to, sharpen, your, dull, knives, ., This, tiny, knife, sharpener, has, stage, sharpening, system, ., First, stage, is, for, damaged, and, dull, knives, ,, it, will, sharpen, the, knife, on, the, coarse, slot, ., The, coarse, slot, is, made, of, carbide, ., Second, stage, is, fine, slot, ,, once, you, have, honed, the, knife, on, coarse, slot, it, will, helps, to, give, the, finishing, touch, ., The, fine, slot, is, made, of, ceramic, for, ...]</td>\n",
       "    </tr>\n",
       "  </tbody>\n",
       "</table>\n",
       "</div>"
      ],
      "text/plain": [
       "                    Label  \\\n",
       "0               Household   \n",
       "1               Household   \n",
       "2               Household   \n",
       "3  Clothing & Accessories   \n",
       "4               Household   \n",
       "\n",
       "                                                                                                                                                                                                                                                                                                                                                                                                                                                                                                                                                                                                                                                        Text  \n",
       "0  [Styleys, Wrought, Iron, Coat, Rack, Hanger, Creative, Fashion, Bedroom, for, Hanging, Clothes, Shelves, ,, Wrought, Iron, Racks, Standing, Coat, Rack, (, Black, ), Color, Name, :, Black, Styleys, Coat, Stand, is, great, for, homes, and, rooms, with, limited, space, ,, as, having, one, standing, rack, takes, up, less, space, compared, to, drawers, and, cupboards, ., Easy, for, guests, to, keep, their, items, ,, especially, bags, and, scarves, ,, when, visiting, ,, as, they, can, always, keep, an, eye, on, it, and, easily, grab, it, when, they, 're, leaving, ., Makes, a, smart, décor, piece, for, your, home, or, room, as, ...]  \n",
       "1                                                                                                                                                                                                                                                                                                       [Cuisinart, CCO-BKN, Deluxe, Electric, Can, Opener, ,, Black, Size, :, None, |, Color, Name, :, Black, Style, ,, convenience, ,, and, power, come, together, in, the, Cuisinart, electric, can, open, ., With, chrome, accents, and, elegant, contours, ,, it, fits, nicely, with, other, modern, countertop, appliances, ., The, easy, single-touc]  \n",
       "2                                                                                                                                                                                                                                                                                                                                                                                                       [Anchor, Penta, Amp, -Way, Switch, (, White, ), -, Pack, of, Anchor, Penta, Amp, -Way, Switch, (, White, ), -, Pack, of, comes, with, Spark, Shield, -, Concealed, Terminals, -, Silver, Cadmium, Contacts, -, IP, Protection, -, Captive, Screw, .]  \n",
       "3                                                                                                                                                                                                                                                                                                                                                                                                                                                                                                                               [Proline, Men, 's, Track, Jacket, Proline, Woven, ,, %, Polyester, High, neck, Wind, Cheater, with, colour, Blocked, Detail]  \n",
       "4                    [Chef, 's, Garage, Slot, Edge, Grip, Kitchen, Knife, Sharpener, ,, Helps, to, Sharpen, The, Dull, Knives, (, Black, ), Chef, 's, Garage, Mini, Knife, sharpener, helps, to, sharpen, your, dull, knives, ., This, tiny, knife, sharpener, has, stage, sharpening, system, ., First, stage, is, for, damaged, and, dull, knives, ,, it, will, sharpen, the, knife, on, the, coarse, slot, ., The, coarse, slot, is, made, of, carbide, ., Second, stage, is, fine, slot, ,, once, you, have, honed, the, knife, on, coarse, slot, it, will, helps, to, give, the, finishing, touch, ., The, fine, slot, is, made, of, ceramic, for, ...]  "
      ]
     },
     "execution_count": 16,
     "metadata": {},
     "output_type": "execute_result"
    }
   ],
   "source": [
    "#Tokenization of data\n",
    "data1['Text'] = data1.apply(lambda row: nltk.word_tokenize(row['Text']), axis=1) \n",
    "data1.head()"
   ]
  },
  {
   "cell_type": "code",
   "execution_count": 17,
   "id": "d7724728",
   "metadata": {},
   "outputs": [
    {
     "name": "stderr",
     "output_type": "stream",
     "text": [
      "[nltk_data] Downloading package stopwords to\n",
      "[nltk_data]     C:\\Users\\shril\\AppData\\Roaming\\nltk_data...\n",
      "[nltk_data]   Package stopwords is already up-to-date!\n",
      "[nltk_data] Downloading package punkt to\n",
      "[nltk_data]     C:\\Users\\shril\\AppData\\Roaming\\nltk_data...\n",
      "[nltk_data]   Package punkt is already up-to-date!\n",
      "[nltk_data] Downloading package wordnet to\n",
      "[nltk_data]     C:\\Users\\shril\\AppData\\Roaming\\nltk_data...\n",
      "[nltk_data]   Package wordnet is already up-to-date!\n"
     ]
    },
    {
     "data": {
      "text/plain": [
       "True"
      ]
     },
     "execution_count": 17,
     "metadata": {},
     "output_type": "execute_result"
    }
   ],
   "source": [
    "#Download Stopwords\n",
    "nltk.download('stopwords')\n",
    "nltk.download('punkt')\n",
    "nltk.download('wordnet')"
   ]
  },
  {
   "cell_type": "code",
   "execution_count": 18,
   "id": "e6e6b0ae",
   "metadata": {},
   "outputs": [],
   "source": [
    "stopwords = set(stopwords.words('english'))\n",
    "from nltk.stem import LancasterStemmer, WordNetLemmatizer"
   ]
  },
  {
   "cell_type": "code",
   "execution_count": 19,
   "id": "0510cac4",
   "metadata": {},
   "outputs": [
    {
     "data": {
      "text/html": [
       "<div>\n",
       "<style scoped>\n",
       "    .dataframe tbody tr th:only-of-type {\n",
       "        vertical-align: middle;\n",
       "    }\n",
       "\n",
       "    .dataframe tbody tr th {\n",
       "        vertical-align: top;\n",
       "    }\n",
       "\n",
       "    .dataframe thead th {\n",
       "        text-align: right;\n",
       "    }\n",
       "</style>\n",
       "<table border=\"1\" class=\"dataframe\">\n",
       "  <thead>\n",
       "    <tr style=\"text-align: right;\">\n",
       "      <th></th>\n",
       "      <th>Label</th>\n",
       "      <th>Text</th>\n",
       "    </tr>\n",
       "  </thead>\n",
       "  <tbody>\n",
       "    <tr>\n",
       "      <th>0</th>\n",
       "      <td>Household</td>\n",
       "      <td>styley wrought iron coat rack hang cre fash bedroom hang cloth shelv wrought iron rack stand coat rack black col nam black styley coat stand gre hom room limit spac on stand rack tak le spac comp draw cupboard easy guest keep item espec bag scarv visit alway keep ey easy grab leav mak smart dec piec hom room occupy stand show styl handb access hangm achiev med dimend cm x cm x cm weight kg mat steel colo whit black pink hook straight peg suit hang coat cloth scarv handb hat access</td>\n",
       "    </tr>\n",
       "    <tr>\n",
       "      <th>1</th>\n",
       "      <td>Household</td>\n",
       "      <td>cuisinart ccobkn delux elect op black siz non col nam black styl conveny pow com togeth cuisinart elect op chrome acc eleg conto fit nic modern countertop apply easy singletouc</td>\n",
       "    </tr>\n",
       "    <tr>\n",
       "      <th>2</th>\n",
       "      <td>Household</td>\n",
       "      <td>anch pent amp way switch whit pack anch pent amp way switch whit pack com spark shield cont termin silv cadm contact ip protect capt screw</td>\n",
       "    </tr>\n",
       "    <tr>\n",
       "      <th>3</th>\n",
       "      <td>Clothing &amp; Accessories</td>\n",
       "      <td>prolin men track jacket prolin wov polyest high neck wind che colo block detail</td>\n",
       "    </tr>\n",
       "    <tr>\n",
       "      <th>4</th>\n",
       "      <td>Household</td>\n",
       "      <td>chef gar slot edg grip kitch knif sharp help sharp dul kniv black chef gar min knif sharp help sharp dul kniv tiny knif sharp stag sharp system first stag dam dul kniv sharp knif coars slot coars slot mad carbid second stag fin slot hon knif coars slot help giv fin touch fin slot mad ceram fin sharp giv quick touch already sharp kniv fin kniv already pas coars slotalso com on un edg grip feat sharp edg tabl count top key feat easy u nonslip ba ad stabl control carbid ceram blad sharp slot long last strong hard flex edg grip feat big kniv smal siz x x cm weight le gram instruct insert blad slot degr angl min sharp plac edg coars slot black col pul knif straight back toward tim apply light press plac blad fin slot whit col pul knif straight back toward tim apply heavy press blad stil dul rep step blad sharp</td>\n",
       "    </tr>\n",
       "  </tbody>\n",
       "</table>\n",
       "</div>"
      ],
      "text/plain": [
       "                    Label  \\\n",
       "0               Household   \n",
       "1               Household   \n",
       "2               Household   \n",
       "3  Clothing & Accessories   \n",
       "4               Household   \n",
       "\n",
       "                                                                                                                                                                                                                                                                                                                                                                                                                                                                                                                                                                                                                                                                                                                                                                                                                                               Text  \n",
       "0                                                                                                                                                                                                                                                                                                                                             styley wrought iron coat rack hang cre fash bedroom hang cloth shelv wrought iron rack stand coat rack black col nam black styley coat stand gre hom room limit spac on stand rack tak le spac comp draw cupboard easy guest keep item espec bag scarv visit alway keep ey easy grab leav mak smart dec piec hom room occupy stand show styl handb access hangm achiev med dimend cm x cm x cm weight kg mat steel colo whit black pink hook straight peg suit hang coat cloth scarv handb hat access  \n",
       "1                                                                                                                                                                                                                                                                                                                                                                                                                                                                                                                                                                                                                                                                  cuisinart ccobkn delux elect op black siz non col nam black styl conveny pow com togeth cuisinart elect op chrome acc eleg conto fit nic modern countertop apply easy singletouc  \n",
       "2                                                                                                                                                                                                                                                                                                                                                                                                                                                                                                                                                                                                                                                                                                        anch pent amp way switch whit pack anch pent amp way switch whit pack com spark shield cont termin silv cadm contact ip protect capt screw  \n",
       "3                                                                                                                                                                                                                                                                                                                                                                                                                                                                                                                                                                                                                                                                                                                                                                   prolin men track jacket prolin wov polyest high neck wind che colo block detail  \n",
       "4  chef gar slot edg grip kitch knif sharp help sharp dul kniv black chef gar min knif sharp help sharp dul kniv tiny knif sharp stag sharp system first stag dam dul kniv sharp knif coars slot coars slot mad carbid second stag fin slot hon knif coars slot help giv fin touch fin slot mad ceram fin sharp giv quick touch already sharp kniv fin kniv already pas coars slotalso com on un edg grip feat sharp edg tabl count top key feat easy u nonslip ba ad stabl control carbid ceram blad sharp slot long last strong hard flex edg grip feat big kniv smal siz x x cm weight le gram instruct insert blad slot degr angl min sharp plac edg coars slot black col pul knif straight back toward tim apply light press plac blad fin slot whit col pul knif straight back toward tim apply heavy press blad stil dul rep step blad sharp  "
      ]
     },
     "execution_count": 19,
     "metadata": {},
     "output_type": "execute_result"
    }
   ],
   "source": [
    "def remove_non_ascii(words):\n",
    "    #Remove non-ASCII characters from list of tokenized words\n",
    "    new_words = []\n",
    "    for word in words:\n",
    "        new_word = unicodedata.normalize('NFKD', word).encode('ascii', 'ignore').decode('utf-8', 'ignore')\n",
    "        new_words.append(new_word)\n",
    "    return new_words\n",
    "\n",
    "def remove_punctuation(words):\n",
    "    #Remove punctuation from list of tokenized words\n",
    "    new_words = []\n",
    "    for word in words:\n",
    "        new_word = re.sub(r'[^\\w\\s]', '', word)\n",
    "        if new_word != '':\n",
    "            new_words.append(new_word)\n",
    "    return new_words\n",
    "\n",
    "def to_lowercase(words):\n",
    "    #Convert all characters to lowercase from list of tokenized words\n",
    "    new_words = []                                  ## Create empty list to store pre-processed words.\n",
    "    for word in words:\n",
    "        new_word = word.lower()\n",
    "        new_words.append(new_word)\n",
    "    return new_words      \n",
    "\n",
    "\n",
    "def remove_stopwords(words):\n",
    "    #Remove stop words from list of tokenized words\n",
    "    new_words = []                                  # Create empty list to store pre-processed words.\n",
    "    for word in words:\n",
    "        if word not in stopwords:\n",
    "            new_words.append(word)\n",
    "    return new_words   \n",
    "\n",
    "def stem_words(words):\n",
    "    #Stem words in list of tokenized words\n",
    "    stemmer = LancasterStemmer()\n",
    "    stems = []                            # Create empty list to store pre-processed words.\n",
    "    for word in words:\n",
    "        stem = stemmer.stem(word)\n",
    "        stems.append(stem)                # Append processed words to new list.\n",
    "    return stems\n",
    "\n",
    "\n",
    "def lemmatize_list(words):\n",
    "    #Lemmatize words in list of tokenized words\n",
    "    lemmatizer = WordNetLemmatizer()\n",
    "    lemmas = []                           # Create empty list to store pre-processed words.\n",
    "    for word in words:\n",
    "        lemma = lemmatizer.lemmatize(word)\n",
    "        lemmas.append(lemma)              # Append processed words to new list.\n",
    "    return lemmas\n",
    "\n",
    "\n",
    "def normalize(words):\n",
    "    words = remove_non_ascii(words)\n",
    "    words = to_lowercase(words)\n",
    "    words = remove_punctuation(words)\n",
    "    words = remove_stopwords(words)\n",
    "    words = stem_words(words)\n",
    "    words = lemmatize_list(words)\n",
    "    return ' '.join(words)\n",
    "\n",
    "data1['Text'] = data1.apply(lambda row: normalize(row['Text']), axis=1)\n",
    "data1.head()    "
   ]
  },
  {
   "cell_type": "code",
   "execution_count": 20,
   "id": "ef690353",
   "metadata": {},
   "outputs": [],
   "source": [
    "#Vectorization - CountVectorization\n",
    "#Vectorization (Convert text data to numbers).\n",
    "from sklearn.feature_extraction.text import CountVectorizer\n",
    "\n",
    "vectorizer = CountVectorizer(max_features=1000)                # Keep only 5000 features as number of features will increase the processing time.\n",
    "data_features = vectorizer.fit_transform(data1['Text'])\n",
    "\n",
    "data_features = data_features.toarray()  "
   ]
  },
  {
   "cell_type": "code",
   "execution_count": 21,
   "id": "0a5c0fd7",
   "metadata": {},
   "outputs": [
    {
     "data": {
      "text/plain": [
       "(50423, 1000)"
      ]
     },
     "execution_count": 21,
     "metadata": {},
     "output_type": "execute_result"
    }
   ],
   "source": [
    "data_features.shape"
   ]
  },
  {
   "cell_type": "code",
   "execution_count": 23,
   "id": "9b1f7e31",
   "metadata": {},
   "outputs": [],
   "source": [
    "X = data_features\n",
    "y = data.Label"
   ]
  },
  {
   "cell_type": "markdown",
   "id": "34d13116",
   "metadata": {},
   "source": [
    "## Model Building"
   ]
  },
  {
   "cell_type": "code",
   "execution_count": 24,
   "id": "89687f90",
   "metadata": {},
   "outputs": [],
   "source": [
    "# Split data into training and testing set.\n",
    "from sklearn.model_selection import train_test_split\n",
    "X_train, X_test, y_train, y_test = train_test_split(X, y, test_size=0.3, random_state=42)"
   ]
  },
  {
   "cell_type": "markdown",
   "id": "61a0cc66",
   "metadata": {},
   "source": [
    "Categories classification based on CountVectorizer"
   ]
  },
  {
   "cell_type": "code",
   "execution_count": 25,
   "id": "14bd4740",
   "metadata": {},
   "outputs": [
    {
     "name": "stdout",
     "output_type": "stream",
     "text": [
      "RandomForestClassifier(n_estimators=10, n_jobs=4)\n"
     ]
    }
   ],
   "source": [
    "# Using Random Forest to build model for the classification of reviews.\n",
    "# Also calculating the cross validation score.\n",
    "\n",
    "from sklearn.ensemble import RandomForestClassifier\n",
    "from sklearn.model_selection import cross_val_score\n",
    "\n",
    "forest = RandomForestClassifier(n_estimators=10, n_jobs=4)\n",
    "forest = forest.fit(X_train, y_train)\n",
    "print(forest)"
   ]
  },
  {
   "cell_type": "code",
   "execution_count": 26,
   "id": "d4abf9bc",
   "metadata": {},
   "outputs": [
    {
     "name": "stdout",
     "output_type": "stream",
     "text": [
      "0.9691212494404529\n"
     ]
    }
   ],
   "source": [
    "print(np.mean(cross_val_score(forest, X, y, cv=10)))"
   ]
  },
  {
   "cell_type": "code",
   "execution_count": 27,
   "id": "dfbeaa5b",
   "metadata": {},
   "outputs": [],
   "source": [
    "# Predict the result for test data using the model built above.\n",
    "result = forest.predict(X_test)"
   ]
  },
  {
   "cell_type": "code",
   "execution_count": 28,
   "id": "cdb478b7",
   "metadata": {},
   "outputs": [
    {
     "name": "stdout",
     "output_type": "stream",
     "text": [
      "[[3461   12   23   94]\n",
      " [  22 2508   12   54]\n",
      " [  31   12 2982  142]\n",
      " [  73   61   77 5563]]\n"
     ]
    },
    {
     "data": {
      "text/plain": [
       "<Axes: xlabel='None', ylabel='None'>"
      ]
     },
     "execution_count": 28,
     "metadata": {},
     "output_type": "execute_result"
    },
    {
     "data": {
      "image/png": "[encoded data removed]",
      "text/plain": [
       "<Figure size 1000x700 with 2 Axes>"
      ]
     },
     "metadata": {},
     "output_type": "display_data"
    }
   ],
   "source": [
    "# Print and plot Confusion matirx to get an idea of how the distribution of the prediction is, among all the classes.\n",
    "\n",
    "import matplotlib.pyplot as plt\n",
    "import seaborn as sns\n",
    "from sklearn.metrics import confusion_matrix\n",
    "\n",
    "conf_mat = confusion_matrix(y_test, result)\n",
    "print(conf_mat)\n",
    "df_cm = pd.DataFrame(conf_mat, index = [i for i in [labels]],\n",
    "                  columns = [i for i in [labels]])\n",
    "plt.figure(figsize = (10,7))\n",
    "sns.heatmap(df_cm, annot=True, fmt='g')"
   ]
  },
  {
   "cell_type": "markdown",
   "id": "3476f42d",
   "metadata": {},
   "source": [
    "Vectorization-TfidfVectorizer"
   ]
  },
  {
   "cell_type": "code",
   "execution_count": 29,
   "id": "e491ea83",
   "metadata": {},
   "outputs": [
    {
     "data": {
      "text/plain": [
       "(50423, 1000)"
      ]
     },
     "execution_count": 29,
     "metadata": {},
     "output_type": "execute_result"
    }
   ],
   "source": [
    "# Using TfidfVectorizer to convert text data to numbers.\n",
    "from sklearn.feature_extraction.text import TfidfVectorizer\n",
    "\n",
    "vectorizer = TfidfVectorizer(max_features=1000)\n",
    "data_features = vectorizer.fit_transform(data['Text'])\n",
    "data_features = data_features.toarray()\n",
    "data_features.shape"
   ]
  },
  {
   "cell_type": "code",
   "execution_count": 30,
   "id": "b073a0b4",
   "metadata": {},
   "outputs": [],
   "source": [
    "# Split data into training and testing set.\n",
    "from sklearn.model_selection import train_test_split\n",
    "\n",
    "X_train, X_test, y_train, y_test = train_test_split(X, y, test_size=0.3, random_state=42)"
   ]
  },
  {
   "cell_type": "markdown",
   "id": "a27b632f",
   "metadata": {},
   "source": [
    "Categories Classification base on TfidfVectorizer"
   ]
  },
  {
   "cell_type": "code",
   "execution_count": 31,
   "id": "30eb5156",
   "metadata": {},
   "outputs": [
    {
     "name": "stdout",
     "output_type": "stream",
     "text": [
      "RandomForestClassifier(n_estimators=10, n_jobs=4)\n",
      "0.9686847966669505\n"
     ]
    }
   ],
   "source": [
    "# Using Random Forest to build model for the classification of reviews.\n",
    "# Also calculating the cross validation score.\n",
    "\n",
    "from sklearn.ensemble import RandomForestClassifier\n",
    "from sklearn.model_selection import cross_val_score\n",
    "import numpy as np\n",
    "\n",
    "forest = RandomForestClassifier(n_estimators=10, n_jobs=4)\n",
    "forest = forest.fit(X_train, y_train)\n",
    "print(forest)\n",
    "print(np.mean(cross_val_score(forest, X, y, cv=10)))"
   ]
  },
  {
   "cell_type": "code",
   "execution_count": 33,
   "id": "e60f19f8",
   "metadata": {},
   "outputs": [],
   "source": [
    "result = forest.predict(X_test)"
   ]
  },
  {
   "cell_type": "code",
   "execution_count": 34,
   "id": "310a5dff",
   "metadata": {},
   "outputs": [
    {
     "name": "stdout",
     "output_type": "stream",
     "text": [
      "[[3469   17   21   83]\n",
      " [  24 2519    6   47]\n",
      " [  35   12 2990  130]\n",
      " [  72   54   71 5577]]\n"
     ]
    },
    {
     "data": {
      "text/plain": [
       "<Axes: xlabel='None', ylabel='None'>"
      ]
     },
     "execution_count": 34,
     "metadata": {},
     "output_type": "execute_result"
    },
    {
     "data": {
      "image/png": "[encoded data removed]",
      "text/plain": [
       "<Figure size 1000x700 with 2 Axes>"
      ]
     },
     "metadata": {},
     "output_type": "display_data"
    }
   ],
   "source": [
    "# Print and plot Confusion matirx to get an idea of how the distribution of the prediction is, among all the classes.\n",
    "\n",
    "import matplotlib.pyplot as plt\n",
    "import seaborn as sns\n",
    "from sklearn.metrics import confusion_matrix\n",
    "\n",
    "conf_mat = confusion_matrix(y_test, result)\n",
    "\n",
    "print(conf_mat)\n",
    "\n",
    "df_cm = pd.DataFrame(conf_mat, index = [i for i in [labels]],\n",
    "                  columns = [i for i in [labels]])\n",
    "plt.figure(figsize = (10,7))\n",
    "sns.heatmap(df_cm, annot=True, fmt='g')"
   ]
  },
  {
   "cell_type": "markdown",
   "id": "7de00a92",
   "metadata": {},
   "source": [
    "**Summary:**\n",
    "\n",
    "- We used E-commerce text dataset for 4 categories - \"Electronics\", \"Household\", \"Books\" and \"Clothing & Accessories\", which almost cover 80% of any E-commerce website.\n",
    "- The goal was to build a model for categories-classification.\n",
    "- We Pre-processed the data using variuos techniques and libraries.\n",
    "- The pre-precessed data is converted to vectorer(representation into number), so that we can feed the data in the model.\n",
    "- After building the classification model, we predicted the result for the test data.\n",
    "- After that we saw that using the above techniques, our model performed good in perspective of how the text classification models perform.\n",
    "- One more way to increase accuracy is to use different variations of Pre-processing techniques\n",
    "- we can optimize the parameter of vectorizer to improve our outcome.\n",
    "- Over all, we have got very good accuracy(97% on both vectorizer) after applying all necessary model building process."
   ]
  }
 ],
 "metadata": {
  "kernelspec": {
   "display_name": "Python 3 (ipykernel)",
   "language": "python",
   "name": "python3"
  },
  "language_info": {
   "codemirror_mode": {
    "name": "ipython",
    "version": 3
   },
   "file_extension": ".py",
   "mimetype": "text/x-python",
   "name": "python",
   "nbconvert_exporter": "python",
   "pygments_lexer": "ipython3",
   "version": "3.10.9"
  }
 },
 "nbformat": 4,
 "nbformat_minor": 5
}
